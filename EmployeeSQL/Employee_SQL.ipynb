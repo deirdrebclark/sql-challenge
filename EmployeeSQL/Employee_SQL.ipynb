{
 "cells": [
  {
   "cell_type": "code",
   "execution_count": 10,
   "metadata": {},
   "outputs": [],
   "source": [
    "# Dependencies\n",
    "import matplotlib.pyplot as plt\n",
    "import pandas as pd\n",
    "import psycopg2 as pg\n",
    "import pandas.io.sql as psql\n",
    "import DB_login as login\n"
   ]
  },
  {
   "cell_type": "code",
   "execution_count": 2,
   "metadata": {},
   "outputs": [],
   "source": [
    "#Connect to database\n",
    "conn_string = \"host=\"+ login.PGHOST +\" port=\"+ \"5432\" +\" dbname=\"+ login.PGDATABASE +\" user=\" + login.PGUSER \\\n",
    "+\" password=\"+ login.PGPASSWORD\n",
    "\n",
    "conn = pg.connect(conn_string)\n"
   ]
  },
  {
   "cell_type": "code",
   "execution_count": 3,
   "metadata": {},
   "outputs": [
    {
     "data": {
      "text/html": [
       "<div>\n",
       "<style scoped>\n",
       "    .dataframe tbody tr th:only-of-type {\n",
       "        vertical-align: middle;\n",
       "    }\n",
       "\n",
       "    .dataframe tbody tr th {\n",
       "        vertical-align: top;\n",
       "    }\n",
       "\n",
       "    .dataframe thead th {\n",
       "        text-align: right;\n",
       "    }\n",
       "</style>\n",
       "<table border=\"1\" class=\"dataframe\">\n",
       "  <thead>\n",
       "    <tr style=\"text-align: right;\">\n",
       "      <th></th>\n",
       "      <th>salary_id</th>\n",
       "      <th>emp_no</th>\n",
       "      <th>salary</th>\n",
       "      <th>from_date</th>\n",
       "      <th>to_date</th>\n",
       "    </tr>\n",
       "  </thead>\n",
       "  <tbody>\n",
       "    <tr>\n",
       "      <th>0</th>\n",
       "      <td>1</td>\n",
       "      <td>10001</td>\n",
       "      <td>60117.0</td>\n",
       "      <td>1986-06-26</td>\n",
       "      <td>1987-06-26</td>\n",
       "    </tr>\n",
       "    <tr>\n",
       "      <th>1</th>\n",
       "      <td>2</td>\n",
       "      <td>10002</td>\n",
       "      <td>65828.0</td>\n",
       "      <td>1996-08-03</td>\n",
       "      <td>1997-08-03</td>\n",
       "    </tr>\n",
       "    <tr>\n",
       "      <th>2</th>\n",
       "      <td>3</td>\n",
       "      <td>10003</td>\n",
       "      <td>40006.0</td>\n",
       "      <td>1995-12-03</td>\n",
       "      <td>1996-12-02</td>\n",
       "    </tr>\n",
       "    <tr>\n",
       "      <th>3</th>\n",
       "      <td>4</td>\n",
       "      <td>10004</td>\n",
       "      <td>40054.0</td>\n",
       "      <td>1986-12-01</td>\n",
       "      <td>1987-12-01</td>\n",
       "    </tr>\n",
       "    <tr>\n",
       "      <th>4</th>\n",
       "      <td>5</td>\n",
       "      <td>10005</td>\n",
       "      <td>78228.0</td>\n",
       "      <td>1989-09-12</td>\n",
       "      <td>1990-09-12</td>\n",
       "    </tr>\n",
       "  </tbody>\n",
       "</table>\n",
       "</div>"
      ],
      "text/plain": [
       "   salary_id  emp_no   salary   from_date     to_date\n",
       "0          1   10001  60117.0  1986-06-26  1987-06-26\n",
       "1          2   10002  65828.0  1996-08-03  1997-08-03\n",
       "2          3   10003  40006.0  1995-12-03  1996-12-02\n",
       "3          4   10004  40054.0  1986-12-01  1987-12-01\n",
       "4          5   10005  78228.0  1989-09-12  1990-09-12"
      ]
     },
     "execution_count": 3,
     "metadata": {},
     "output_type": "execute_result"
    }
   ],
   "source": [
    "#Run SQL to create dataframes\n",
    "query_emp = 'SELECT * FROM employee;'\n",
    "emp_data = pd.read_sql(query_emp, conn)\n",
    "\n",
    "query_sal = 'SELECT * FROM salary;'\n",
    "sal_data = pd.read_sql(query_sal, conn)\n",
    "\n",
    "query_title = 'SELECT * FROM title;'\n",
    "title_data = pd.read_sql(query_title, conn)\n",
    "\n",
    "sal_data.head()"
   ]
  },
  {
   "cell_type": "code",
   "execution_count": 5,
   "metadata": {},
   "outputs": [
    {
     "data": {
      "image/png": "[encoded data removed]",
      "text/plain": [
       "<Figure size 432x288 with 1 Axes>"
      ]
     },
     "metadata": {
      "needs_background": "light"
     },
     "output_type": "display_data"
    }
   ],
   "source": [
    "#Create a histogram to visualize the most common salary ranges for employee\n",
    "histogram = sal_data.hist(column = 'salary', bins = 5)"
   ]
  },
  {
   "cell_type": "code",
   "execution_count": 17,
   "metadata": {},
   "outputs": [
    {
     "data": {
      "text/plain": [
       "<function matplotlib.pyplot.show>"
      ]
     },
     "execution_count": 17,
     "metadata": {},
     "output_type": "execute_result"
    },
    {
     "data": {
      "image/png": "[encoded data removed]",
      "text/plain": [
       "<Figure size 432x288 with 1 Axes>"
      ]
     },
     "metadata": {
      "needs_background": "light"
     },
     "output_type": "display_data"
    }
   ],
   "source": [
    "#Create a bar chart of average salary by title\n",
    "query_avg_salary = 'SELECT t.title, ROUND(AVG(s.salary)::numeric,2) AS avg_salary FROM title AS t INNER JOIN salary AS s ON t.emp_no = s.emp_no GROUP BY t.title ORDER BY t.title; '\n",
    "avg_salary_data = pd.read_sql(query_avg_salary, conn)\n",
    "\n",
    "avg_salary_data.head()\n",
    "\n",
    "\n",
    "x = avg_salary_data['title']\n",
    "y = avg_salary_data['avg_salary']\n",
    "    \n",
    "bar_chart = plt.bar(x, y, color = 'm')\n",
    "\n",
    "plt.xticks(rotation='vertical')\n",
    "plt.title('AVERAGE SALARY BY TITLE')\n",
    "plt.ylabel('Salary')\n",
    "\n",
    "plt.show\n"
   ]
  }
 ],
 "metadata": {
  "kernelspec": {
   "display_name": "Python [conda env:.conda-PythonData]",
   "language": "python",
   "name": "conda-env-.conda-PythonData-py"
  },
  "language_info": {
   "codemirror_mode": {
    "name": "ipython",
    "version": 3
   },
   "file_extension": ".py",
   "mimetype": "text/x-python",
   "name": "python",
   "nbconvert_exporter": "python",
   "pygments_lexer": "ipython3",
   "version": "3.6.9"
  }
 },
 "nbformat": 4,
 "nbformat_minor": 2
}
